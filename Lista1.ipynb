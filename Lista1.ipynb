{
 "cells": [
  {
   "cell_type": "code",
   "execution_count": 1,
   "metadata": {},
   "outputs": [
    {
     "name": "stdout",
     "output_type": "stream",
     "text": [
      "['co_cnes', 'co_ibge', 'data_atualizacao', 'lat', 'long', 'origem_dado']\n"
     ]
    }
   ],
   "source": [
    "import load_and_prepare_data as ld\n",
    "\n",
    "data = ld.load_and_prepare_data()\n",
    "\n",
    "\n",
    "#dataOrder = ld.selectionSort(data)\n",
    "\n",
    "print(data)"
   ]
  }
 ],
 "metadata": {
  "kernelspec": {
   "display_name": "Python 3",
   "language": "python",
   "name": "python3"
  },
  "language_info": {
   "codemirror_mode": {
    "name": "ipython",
    "version": 3
   },
   "file_extension": ".py",
   "mimetype": "text/x-python",
   "name": "python",
   "nbconvert_exporter": "python",
   "pygments_lexer": "ipython3",
   "version": "3.5.2"
  }
 },
 "nbformat": 4,
 "nbformat_minor": 2
}
